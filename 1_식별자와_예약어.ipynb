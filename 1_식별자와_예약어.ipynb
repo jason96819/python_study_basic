{
  "nbformat": 4,
  "nbformat_minor": 0,
  "metadata": {
    "colab": {
      "provenance": [],
      "authorship_tag": "ABX9TyNN0tkvuJTwXKtOds/IKsG8",
      "include_colab_link": true
    },
    "kernelspec": {
      "name": "python3",
      "display_name": "Python 3"
    },
    "language_info": {
      "name": "python"
    }
  },
  "cells": [
    {
      "cell_type": "markdown",
      "metadata": {
        "id": "view-in-github",
        "colab_type": "text"
      },
      "source": [
        "<a href=\"https://colab.research.google.com/github/jason96819/python_study_basic/blob/main/1_%EC%8B%9D%EB%B3%84%EC%9E%90%EC%99%80_%EC%98%88%EC%95%BD%EC%96%B4.ipynb\" target=\"_parent\"><img src=\"https://colab.research.google.com/assets/colab-badge.svg\" alt=\"Open In Colab\"/></a>"
      ]
    },
    {
      "cell_type": "markdown",
      "source": [
        "# 식별자와 예약어"
      ],
      "metadata": {
        "id": "pWd-TnNaiGKf"
      }
    },
    {
      "cell_type": "markdown",
      "source": [
        "## 식별자(Identifier)\n",
        "변수, 상수, 함수, 사용자 정의 타입 등에서 다른 것들과 구분하기 위해서 사용되는 변수의 이름, 상수의 이름, 함수의 이름, 사용자 정의 타입의 이름 등 '이름'을 일반화 해서 지칭하는 용어입니다.\n",
        "사용자가 임의로 지정합니다. 이름만 보아도 뜻을 알 수 있도록 지정하는 것이 좋습니다.\n",
        "\n",
        "- 식별자 작성 규칙\n",
        " - 식별자는 소문자 (a ~ z) 또는 대문자 (A ~ Z) 또는 숫자 (0 ~ 9) 또는 밑줄 (_)의   조합입니다.\n",
        " - myClass, var_1및 print_this_to_screen 모두 유효한 예입니다.\n",
        " - 식별자는 숫자로 시작될 수 없습니다. 1variable무효이지만 variable1완벽하게 괜찮습니다.\n",
        " - 키워드는 식별자로 사용할 수 없습니다.\n",
        " - !, @, #, $, % 등 특수 기호는 우리 식별자에서 사용할 수 없습니다.\n",
        " - 식별자의 길이는 제한이 없습니다.\n",
        " - 파이썬은 대소 문자를 구별하는 언어입니다. 이는, Variable과 variable동일하지 않습니다.\n",
        " - 의미있는 식별자의 이름을 항상 지정하십시오.\n",
        "\n",
        "출처 : 위키독스 Python 계단밟기, 김중운"
      ],
      "metadata": {
        "id": "lt7H9W7nhmIb"
      }
    },
    {
      "cell_type": "markdown",
      "source": [
        "## 키워드(Keyword)\n",
        "예약어, 즉 주요단어란 뜻으로 파이썬에서 미리 사용하기 위해 예약해둔 단어들이란 뜻을 가진다."
      ],
      "metadata": {
        "id": "zA0PzqNqivLq"
      }
    },
    {
      "cell_type": "code",
      "execution_count": 1,
      "metadata": {
        "colab": {
          "base_uri": "https://localhost:8080/"
        },
        "id": "Zwho22hYU0PY",
        "outputId": "9306400d-0bb3-498b-97a6-7919cdf076b5"
      },
      "outputs": [
        {
          "output_type": "stream",
          "name": "stdout",
          "text": [
            "[False     ] [None      ] [True      ] [and       ] [as        ] \n",
            "[assert    ] [async     ] [await     ] [break     ] [class     ] \n",
            "[continue  ] [def       ] [del       ] [elif      ] [else      ] \n",
            "[except    ] [finally   ] [for       ] [from      ] [global    ] \n",
            "[if        ] [import    ] [in        ] [is        ] [lambda    ] \n",
            "[nonlocal  ] [not       ] [or        ] [pass      ] [raise     ] \n",
            "[return    ] [try       ] [while     ] [with      ] [yield     ] \n"
          ]
        }
      ],
      "source": [
        "# 파이썬의 키워드\n",
        "\n",
        "import keyword\n",
        "kwlist = keyword.kwlist\n",
        "for i in range(0,len(kwlist)):\n",
        "    print(\"[{:10}]\".format(kwlist[i]), end=\" \")\n",
        "    if (i+1)%5==0: print()"
      ]
    },
    {
      "cell_type": "code",
      "source": [
        "print(keyword.kwlist)"
      ],
      "metadata": {
        "colab": {
          "base_uri": "https://localhost:8080/"
        },
        "id": "GezokyABjIim",
        "outputId": "fe9b7f0e-8b58-4686-80b3-e90757dcb8ce"
      },
      "execution_count": 2,
      "outputs": [
        {
          "output_type": "stream",
          "name": "stdout",
          "text": [
            "['False', 'None', 'True', 'and', 'as', 'assert', 'async', 'await', 'break', 'class', 'continue', 'def', 'del', 'elif', 'else', 'except', 'finally', 'for', 'from', 'global', 'if', 'import', 'in', 'is', 'lambda', 'nonlocal', 'not', 'or', 'pass', 'raise', 'return', 'try', 'while', 'with', 'yield']\n"
          ]
        }
      ]
    },
    {
      "cell_type": "markdown",
      "source": [
        "앞으로 배워나가면서 하나하나씩 알게 될 것입니다."
      ],
      "metadata": {
        "id": "U5y7EZddjOaG"
      }
    }
  ]
}