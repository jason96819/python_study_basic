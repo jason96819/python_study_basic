{
  "nbformat": 4,
  "nbformat_minor": 0,
  "metadata": {
    "colab": {
      "provenance": [],
      "authorship_tag": "ABX9TyO13KhGL31WTJwTsgLy5JBL",
      "include_colab_link": true
    },
    "kernelspec": {
      "name": "python3",
      "display_name": "Python 3"
    },
    "language_info": {
      "name": "python"
    }
  },
  "cells": [
    {
      "cell_type": "markdown",
      "metadata": {
        "id": "view-in-github",
        "colab_type": "text"
      },
      "source": [
        "<a href=\"https://colab.research.google.com/github/jason96819/python_study_basic/blob/main/2_%EC%97%B0%EC%82%B0%EC%9E%90.ipynb\" target=\"_parent\"><img src=\"https://colab.research.google.com/assets/colab-badge.svg\" alt=\"Open In Colab\"/></a>"
      ]
    },
    {
      "cell_type": "markdown",
      "source": [
        "# 연산자\n",
        "파이썬에서 다루는 연산자에는 변수의 크기를 비교하여 같거나, 크거나, 작은 것은 알려 주는 비교 연산자와 and, or, not 과 같은 참, 거짓을 판별할 때 사용하는 논리 연산자가 있습니다. 두 연산자 모두 if 문 for 문 while 문에서 자주 사용됩니다."
      ],
      "metadata": {
        "id": "E365s4f2kA7s"
      }
    },
    {
      "cell_type": "markdown",
      "source": [
        "## 산술 연산자"
      ],
      "metadata": {
        "id": "8clyjN3JkrIU"
      }
    },
    {
      "cell_type": "markdown",
      "source": [
        "초등학교때 부터 많이 배웠기 때문에 특별한 설명은 없습니다.\n",
        "- '+' : 더하기\n",
        "- '-' : 빼기\n",
        "- '*' : 곱하기\n",
        "- / : 나누기\n",
        "- // : 정수 몫\n",
        "- % : 나머지\n",
        "- ** : 누승"
      ],
      "metadata": {
        "id": "j2Pmd2GMmijA"
      }
    },
    {
      "cell_type": "code",
      "execution_count": 2,
      "metadata": {
        "colab": {
          "base_uri": "https://localhost:8080/"
        },
        "id": "gO5rMdYMj9zI",
        "outputId": "928be4e5-6912-46ee-dde0-7105358112bc"
      },
      "outputs": [
        {
          "output_type": "stream",
          "name": "stdout",
          "text": [
            "10 <class 'int'>\n",
            "3 <class 'int'>\n",
            "13 <class 'int'>\n",
            "7 <class 'int'>\n",
            "30 <class 'int'>\n",
            "3.3333333333333335 <class 'float'>\n",
            "3 <class 'int'>\n",
            "1 <class 'int'>\n",
            "1000 <class 'int'>\n"
          ]
        }
      ],
      "source": [
        "# 산술 연산자\n",
        "a = 10\n",
        "b = 3\n",
        "\n",
        "print(a, type(a))\n",
        "print(b, type(b))              \n",
        "print(a + b, type(a + b))    \n",
        "print(a - b, type(a - b))     \n",
        "print(a * b, type(a * b))    \n",
        "print(a / b, type(a / b))      \n",
        "print(a // b, type(a // b))    \n",
        "print(a % b, type(a % b))     \n",
        "print(a ** b, type(a ** b))    "
      ]
    },
    {
      "cell_type": "markdown",
      "source": [
        "## 관계 연산자"
      ],
      "metadata": {
        "id": "OZbCf_RmlaUp"
      }
    },
    {
      "cell_type": "markdown",
      "source": [
        "대소 관계와 상등관계를 나타내는 연산자로 결과값이 논리값입니다.\n",
        "초등학교때 부터 많이 배웠기 때문에 특별한 설명은 없습니다.\n",
        "- '>' : 크다\n",
        "- '>=': 크거나 같다\n",
        "- < : 작다\n",
        "- <= : 작거나 같다\n",
        "- == : 같다\n",
        "- != : 같지 않다\n",
        "\n",
        "'==' 와 '='은 파이썬에서 다른 문자입니다.\n",
        "\n",
        "== : 같다의 관계 연산자이고,\n",
        "\n",
        "= : 변수에 값을 저장하는 대입 연산자입니다.\n",
        "\n",
        "같지 않다라는 기호도 키보드에 \"≠\"이 없으므로 \"!=\"를 사용합니다."
      ],
      "metadata": {
        "id": "UylKdP-2mdgQ"
      }
    },
    {
      "cell_type": "code",
      "source": [
        "# 관계 연산자(Relational Operators)\n",
        "a = 10\n",
        "b = 3\n",
        "\n",
        "print(\"10 == 3 =>\", a == b)\n",
        "print(\"10 != 3 =>\", a != b)\n",
        "print(\"10 > 3 =>\", a > b)\n",
        "print(\"10 >= 3 =>\", a >= b)\n",
        "print(\"10 < 3 =>\", a < b)\n",
        "print(\"10 <= 3 =>\", a <= b)"
      ],
      "metadata": {
        "colab": {
          "base_uri": "https://localhost:8080/"
        },
        "id": "aGa4wNS8mOfJ",
        "outputId": "dc591edf-3f6d-4d79-b531-0d2dc765746e"
      },
      "execution_count": 3,
      "outputs": [
        {
          "output_type": "stream",
          "name": "stdout",
          "text": [
            "10 == 3 => False\n",
            "10 != 3 => True\n",
            "10 > 3 => True\n",
            "10 >= 3 => True\n",
            "10 < 3 => False\n",
            "10 <= 3 => False\n"
          ]
        }
      ]
    },
    {
      "cell_type": "markdown",
      "source": [
        "## 논리 연산자"
      ],
      "metadata": {
        "id": "pVt-PNfAmXjh"
      }
    },
    {
      "cell_type": "markdown",
      "source": [
        " - and : 논리곱\n",
        " - or : 논리합\n",
        " - not : 논리부정\n",
        "\n",
        "논리 값을 판단해주는 연산자 입니다.\n",
        "\n",
        "진리표는 다음과 같습니다.\n",
        "\n",
        "|a|b|a and b|a or b|not a|\n",
        "|------|-----|-----|-----|-----|\n",
        "|True|True|True|True|False|\n",
        "|True|False|False|True|False|\n",
        "|False|True|False|True|True|\n",
        "|False|False|False|False|True|\n"
      ],
      "metadata": {
        "id": "HW0hxewkmmxJ"
      }
    },
    {
      "cell_type": "code",
      "source": [
        "# 논리 연산자(Logical operator)\n",
        "\n",
        "print(True and True)\n",
        "print(True and False)\n",
        "print(False and True)\n",
        "print(False and False)\n",
        "print()\n",
        "print(True or True)\n",
        "print(True or False)\n",
        "print(False or True)\n",
        "print(False or False)\n",
        "print()\n",
        "print(not True)\n",
        "print(not False)"
      ],
      "metadata": {
        "colab": {
          "base_uri": "https://localhost:8080/"
        },
        "id": "jcLdzfnYn05q",
        "outputId": "b1865482-2bf0-4f34-9567-8dfa905d663b"
      },
      "execution_count": 4,
      "outputs": [
        {
          "output_type": "stream",
          "name": "stdout",
          "text": [
            "True\n",
            "False\n",
            "False\n",
            "False\n",
            "\n",
            "True\n",
            "True\n",
            "True\n",
            "False\n",
            "\n",
            "False\n",
            "True\n"
          ]
        }
      ]
    },
    {
      "cell_type": "markdown",
      "source": [
        "## 비트 연산자"
      ],
      "metadata": {
        "id": "j-78jOC5pf7m"
      }
    },
    {
      "cell_type": "markdown",
      "source": [
        " - & (Binary AND) : bit 단위로 and연산을 합니다.\n",
        " - | (Binary OR) : bit 단위로 or연산을 합니다.\n",
        " - ^ (Binary XOR) : bit 단위로 xor연산을 합니다.\n",
        " - ~ (Binary NOT) : bit 단위로 not연산을 합니다.(1의 보수)\n",
        " - << (Binary left Shift) : bit 단위로 왼쪽으로 비트단위 밀기 연산을 합니다.\n",
        " - '>>' (Binary right Shift) : bit 단위로 오른쪽으로 비트단위 밀기 연산을 합니다.\n",
        "\n",
        "\n",
        "---\n",
        "\n",
        "\n",
        "- 비트 단위로 연산을 수행합니다.\n",
        "- 0은 거짓으로 1은 참으로 연산하여 결과를 1과 0으로 반환합니다.\n",
        "- \"^(xor)\"연산은 두개의 값이 다를 때만 참인 연산입니다.\n",
        "- \" ~(not)\" 연산은 1의 보수를 구합니다. 컴퓨터에서는 뺄셈을 2의 보수를 덧셈하여 처리 합니다.\n",
        "- \"<<\"는 연산은 왼쪽으로 1비트 밀때마다 두 배씩 늘어납니다.\n",
        "- \">>\" 연산은 오른쪽으로 1비트 밀때마다 1/2씩 줄어듭니다."
      ],
      "metadata": {
        "id": "K1AfUHU7piOW"
      }
    },
    {
      "cell_type": "code",
      "source": [
        "# 진법 초기화\n",
        "a = 10\n",
        "print(type(a), a)\n",
        "a = 0b10\n",
        "print(type(a), a)\n",
        "a = 0o10\n",
        "print(type(a), a)\n",
        "a = 0x10\n",
        "print(type(a), a)\n",
        "print()\n",
        "a = 0B10\n",
        "print(type(a), a)\n",
        "a = 0O10\n",
        "print(type(a), a)\n",
        "a = 0X10\n",
        "print(type(a), a)\n",
        "print(\"-\"*20)\n",
        "\n",
        "# 출력\n",
        "i = 0x100\n",
        "print(\"i = \", i)\n",
        "print(\"i = \", bin(i))\n",
        "print(\"i = \", int(i))\n",
        "print(\"i = \", oct(i))\n",
        "print(\"i = \", hex(i))\n",
        "print(\"-\"*20)\n",
        "\n",
        "# 문자열을 형변환\n",
        "i = \"111\"                   # '111'이라는 문자열\n",
        "print(\"i = \", int(i))\n",
        "print(\"i = \", int(i, 2))\n",
        "print(\"i = \", int(i, 8))\n",
        "print(\"i = \", int(i, 16))\n",
        "print(\"i = \", int(i, 5))\n",
        "print(\"-\"*20)"
      ],
      "metadata": {
        "colab": {
          "base_uri": "https://localhost:8080/"
        },
        "id": "5Wqu151gp-fa",
        "outputId": "a72f662f-01cb-46b0-cc02-5c3e521d4861"
      },
      "execution_count": 5,
      "outputs": [
        {
          "output_type": "stream",
          "name": "stdout",
          "text": [
            "<class 'int'> 10\n",
            "<class 'int'> 2\n",
            "<class 'int'> 8\n",
            "<class 'int'> 16\n",
            "\n",
            "<class 'int'> 2\n",
            "<class 'int'> 8\n",
            "<class 'int'> 16\n",
            "--------------------\n",
            "i =  256\n",
            "i =  0b100000000\n",
            "i =  256\n",
            "i =  0o400\n",
            "i =  0x100\n",
            "--------------------\n",
            "i =  111\n",
            "i =  7\n",
            "i =  73\n",
            "i =  273\n",
            "i =  31\n",
            "--------------------\n"
          ]
        }
      ]
    },
    {
      "cell_type": "code",
      "source": [
        "# 비트 연산자(Bitwise Operators)\n",
        "a = 0b10101010\n",
        "b = 0b01110011\n",
        "\n",
        "print('a = ',  a, \":\", bin(a))\n",
        "print('b = ',  b, \":\", bin(b))\n",
        "print('a & b = ',  a & b, \":\", bin(a & b))\n",
        "print('a | b = ',  a | b, \":\", bin(a | b))\n",
        "print('a ^ b = ',  a ^ b, \":\", bin(a ^ b))\n",
        "print('~a = ',  ~a, \":\", bin(~a))\n",
        "\n",
        "print(\"-\"*20)\n",
        "\n",
        "a = 0b1\n",
        "print('a = ', a)\n",
        "a = a << 1    # * 2\n",
        "print('a = ', a)\n",
        "a = a << 1    # * 2\n",
        "print('a = ', a)\n",
        "a = a << 3    # * 2**3\n",
        "print('a = ', a)\n",
        "\n",
        "print(\"-\"*20)\n",
        "\n",
        "a = a >> 1    # / 2\n",
        "print('a = ', a)\n",
        "a = a >> 1    # / 2\n",
        "print('a = ', a)\n",
        "a = a >> 2    # / 2**2\n",
        "print('a = ', a)"
      ],
      "metadata": {
        "colab": {
          "base_uri": "https://localhost:8080/"
        },
        "id": "gS3RPfkNqYu0",
        "outputId": "3778272f-78af-492d-da0c-f691a0dc0a7b"
      },
      "execution_count": 7,
      "outputs": [
        {
          "output_type": "stream",
          "name": "stdout",
          "text": [
            "a =  170 : 0b10101010\n",
            "b =  115 : 0b1110011\n",
            "a & b =  34 : 0b100010\n",
            "a | b =  251 : 0b11111011\n",
            "a ^ b =  217 : 0b11011001\n",
            "~a =  -171 : -0b10101011\n",
            "--------------------\n",
            "a =  1\n",
            "a =  2\n",
            "a =  4\n",
            "a =  32\n",
            "--------------------\n",
            "a =  16\n",
            "a =  8\n",
            "a =  2\n"
          ]
        }
      ]
    },
    {
      "cell_type": "markdown",
      "source": [
        "## 대입 연산자"
      ],
      "metadata": {
        "id": "bWGnGks4qqrf"
      }
    },
    {
      "cell_type": "markdown",
      "source": [
        "- a += b : a = a + b\n",
        "- a -= b : a = a - b\n",
        "- a *= b : a = a * b\n",
        "- a /= b : a = a / b\n",
        "- a %= b : a = a % b\n",
        "- a //= b : a = a // b\n",
        "- a **= b : a = a ** b\n",
        "- a &= b : a = a & b\n",
        "- a |= b : a = a | b\n",
        "- a^= b : a = a ^ b\n",
        "- a <<= b : a = a << b\n",
        "- a >>= b : a = a >>b\n",
        "---\n",
        "- 복합 대입 연산자는 연산과 할당을 합쳐놓은 것입니다.\n",
        "- 사용하면 식을 간결하게 사용이 가능합니다.\n",
        "- 변수가 이전에 가졌던 값을 수정하여 할당하는 일 같은 것에 쓸 수 있습니다.\n",
        "- 너무 많이 쓰다보면 코드를 읽기가 어려워질 수도 있습니다.\n"
      ],
      "metadata": {
        "id": "O1e-lVdjqvkm"
      }
    },
    {
      "cell_type": "code",
      "source": [
        "# 대입 연산자(Assignment Operators)\n",
        "a = 1\n",
        "print('a =', a)\n",
        "a = a + 1\n",
        "print('a =', a)\n",
        "a += 1\n",
        "print('a =', a)\n",
        "a -= 1\n",
        "print('a =', a)\n",
        "a *= 2\n",
        "print('a =', a)\n",
        "a //= 2\n",
        "print('a =', a)\n",
        "a %= 5\n",
        "print('a =', a)\n",
        "a <<= 3\n",
        "print('a =', a)\n",
        "a >>= 2\n",
        "print('a =', a)\n",
        "a **= 2\n",
        "print('a =', a)\n",
        "a &= 0b101010\n",
        "print('a =', a)\n",
        "a |= 0b11110000\n",
        "print('a =', a)\n",
        "a ^= 0b10101010\n",
        "print('a =', a)"
      ],
      "metadata": {
        "colab": {
          "base_uri": "https://localhost:8080/"
        },
        "id": "K0PtoRl0qsVX",
        "outputId": "98c2a9f3-fb47-44ee-91ac-13b83d9832bf"
      },
      "execution_count": 8,
      "outputs": [
        {
          "output_type": "stream",
          "name": "stdout",
          "text": [
            "a = 1\n",
            "a = 2\n",
            "a = 3\n",
            "a = 2\n",
            "a = 4\n",
            "a = 2\n",
            "a = 2\n",
            "a = 16\n",
            "a = 4\n",
            "a = 16\n",
            "a = 0\n",
            "a = 240\n",
            "a = 90\n"
          ]
        }
      ]
    },
    {
      "cell_type": "markdown",
      "source": [
        "## 멤버 연산자"
      ],
      "metadata": {
        "id": "DbZjVdK5rPZK"
      }
    },
    {
      "cell_type": "markdown",
      "source": [
        "- in 연산자 : 포함하는지 검사합니다.\n",
        "- not in 연산자 : 포함되어 있지 않은지 검사 합니다.\n",
        "\n",
        "포함 여부를 판단하는 연산자 입니다."
      ],
      "metadata": {
        "id": "Im9kdaJUrTcS"
      }
    },
    {
      "cell_type": "code",
      "source": [
        "list1 = [2, 3, 4, 5, 6, 7, 8]\n",
        "print(list1)\n",
        "print()\n",
        "print('1은 있다' if 1 in list1 else '1이 없다')\n",
        "print('3은 있다' if 3 in list1 else '3이 없다')\n",
        "print()\n",
        "print('1은 없다' if 1 not in list1 else '1이 있다')\n",
        "print('3은 없다' if 3 not in list1 else '3이 있다')"
      ],
      "metadata": {
        "colab": {
          "base_uri": "https://localhost:8080/"
        },
        "id": "f2tXMy9irSuy",
        "outputId": "f42957ef-98a9-4ed3-8353-e4ceeea30219"
      },
      "execution_count": 9,
      "outputs": [
        {
          "output_type": "stream",
          "name": "stdout",
          "text": [
            "[2, 3, 4, 5, 6, 7, 8]\n",
            "\n",
            "1이 없다\n",
            "3은 있다\n",
            "\n",
            "1은 없다\n",
            "3이 있다\n"
          ]
        }
      ]
    },
    {
      "cell_type": "markdown",
      "source": [
        "## 아이디 연산자"
      ],
      "metadata": {
        "id": "3q4Vmffiredj"
      }
    },
    {
      "cell_type": "markdown",
      "source": [
        " - is : 양쪽 Operand가 동일한 Object를 가리키는지 아닌지를 검사합니다.\n",
        " - is not : 양쪽 Operand가 다른 Object를 가리키는지 아닌지를 검사합니다.\n",
        "\n",
        "\n",
        "---\n",
        "\n",
        "\n",
        "동일한 객체 여부를 판별하는 연산자입니다.\n",
        "\n",
        "id() 함수는 객체를 입력값으로 받아서 객체의 고유값(레퍼런스)을 반환하는 함수입니다.\n",
        "\n",
        "id는 파이썬이 객체를 구별하기 위해서 부여하는 일련번호입니다. 숫자로서 의미는 없습니다.\n",
        "\n",
        "id는 동일한 객체 여부를 판별할 때 사용합니다."
      ],
      "metadata": {
        "id": "SowEfTGorh-k"
      }
    },
    {
      "cell_type": "code",
      "source": [
        "# 아이디 연산자(Identity Operators)\n",
        "a = 10\n",
        "b = 10\n",
        "c = 11\n",
        "print(a, 'id =', id(a))\n",
        "print(b, 'id =', id(b))\n",
        "print(c, 'id =', id(c))\n",
        "print('같은 객체' if a is b else '다른 객체')\n",
        "print('같은 객체' if a is c else '다른 객체')\n",
        "print('다른 객체' if a is not c else '같은 객체')\n",
        "print()\n",
        "\n",
        "name1 = '한사람'\n",
        "name2 = '한사람'\n",
        "name3 = '두사람'\n",
        "print(name1, 'id =', id(name1))\n",
        "print(name2, 'id =', id(name2))\n",
        "print(name3, 'id =', id(name3))\n",
        "print('같은 객체' if name1 is name2 else '다른 객체')\n",
        "print('같은 객체' if name1 is name3 else '다른 객체')\n",
        "print('다른 객체' if name1 is not name3 else '같은 객체')\n",
        "print()\n",
        "\n",
        "name4 = name3\n",
        "print(name3, 'id =', id(name3))\n",
        "print(name4, 'id =', id(name4))\n",
        "print('같은 객체' if name3 is name4 else '다른  객체')\n",
        "print()\n",
        "\n",
        "name3 = '세사람'\n",
        "print(name3, 'id =', id(name3))\n",
        "print(name4, 'id =', id(name4))\n",
        "print('같은 객체' if name3 is name4 else '다른  객체')\n",
        "print()"
      ],
      "metadata": {
        "colab": {
          "base_uri": "https://localhost:8080/"
        },
        "id": "wYynweeIrgU0",
        "outputId": "711ad252-dc25-4c55-fced-e261066663d5"
      },
      "execution_count": 10,
      "outputs": [
        {
          "output_type": "stream",
          "name": "stdout",
          "text": [
            "10 id = 9793376\n",
            "10 id = 9793376\n",
            "11 id = 9793408\n",
            "같은 객체\n",
            "다른 객체\n",
            "다른 객체\n",
            "\n",
            "한사람 id = 140067848068912\n",
            "한사람 id = 140067848069008\n",
            "두사람 id = 140067847684144\n",
            "다른 객체\n",
            "다른 객체\n",
            "다른 객체\n",
            "\n",
            "두사람 id = 140067847684144\n",
            "두사람 id = 140067847684144\n",
            "같은 객체\n",
            "\n",
            "세사람 id = 140067847684912\n",
            "두사람 id = 140067847684144\n",
            "다른  객체\n",
            "\n"
          ]
        }
      ]
    },
    {
      "cell_type": "markdown",
      "source": [
        "## 연산 우선 순위"
      ],
      "metadata": {
        "id": "vTcGvB_yruk1"
      }
    },
    {
      "cell_type": "markdown",
      "source": [
        "* 연산 순서를 잘못 이해하면 원하지 않는 결과를 나타낼 수 있습니다.\n",
        "* 연산 순서를 잘 기억하여 연산 순서를 변경할 때는 괄호를 이용하시기 바랍니다."
      ],
      "metadata": {
        "id": "q901hjHorw5V"
      }
    },
    {
      "cell_type": "markdown",
      "source": [
        "|순위|연산자|설명|\n",
        "|:----:|----|----|\n",
        "|1|(), {}, []|Tuple, Set, List, Dictionary|\n",
        "|2|collention[index]|컬렉션의 첨자|\n",
        "||collection[index1, index2]|슬라이싱|\n",
        "||functino(arguments ...)|함수의인수|\n",
        "||object.attribute|객체의 속성 등|\n",
        "|3|**|거듭제곱|\n",
        "|4| +, -, ~|단항 연산자|\n",
        "|5| *, /, //, %|곱하기, 나누기, 정수 몫, 나머지|\n",
        "|6| +, - |더하기, 빼기|\n",
        "|7| <<, >> |시프트 연산|\n",
        "|8|&|bitwise and|\n",
        "|9|^|bitwise xor|\n",
        "|10|||\n",
        "|11|in, not in|멤버 연산자|\n",
        "||is, is not|아이디 연산자|\n",
        "||<, <=, >, >=, ==, !=|관계 연산자|\n",
        "|12|not|논리 not|\n",
        "|13|and|논리 and|\n",
        "|14|or|논리 or|\n",
        "|15|if else|삼항 연산자|\n",
        "|16|lambda|람다 표현식|\n",
        "\n"
      ],
      "metadata": {
        "id": "nBeSPebWr1oW"
      }
    }
  ]
}